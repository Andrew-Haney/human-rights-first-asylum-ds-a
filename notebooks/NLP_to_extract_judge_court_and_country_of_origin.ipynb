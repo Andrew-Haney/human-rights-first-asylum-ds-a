{
  "nbformat": 4,
  "nbformat_minor": 0,
  "metadata": {
    "colab": {
      "name": "Copy of findJudge with NLP.ipynb",
      "provenance": [],
      "collapsed_sections": []
    },
    "kernelspec": {
      "name": "python3",
      "display_name": "Python 3"
    }
  },
  "cells": [
    {
      "cell_type": "code",
      "metadata": {
        "id": "c7oqz2lv6hPQ",
        "colab": {
          "base_uri": "https://localhost:8080/"
        },
        "outputId": "a6881a5b-de37-453f-d8f2-61128479e595"
      },
      "source": [
        "!python -m spacy download en_core_web_sm\r\n",
        "import spacy\r\n",
        "\r\n",
        "nlp = spacy.load('en_core_web_sm')"
      ],
      "execution_count": 1,
      "outputs": [
        {
          "output_type": "stream",
          "text": [
            "Requirement already satisfied: en_core_web_sm==2.2.5 from https://github.com/explosion/spacy-models/releases/download/en_core_web_sm-2.2.5/en_core_web_sm-2.2.5.tar.gz#egg=en_core_web_sm==2.2.5 in /usr/local/lib/python3.6/dist-packages (2.2.5)\n",
            "Requirement already satisfied: spacy>=2.2.2 in /usr/local/lib/python3.6/dist-packages (from en_core_web_sm==2.2.5) (2.2.4)\n",
            "Requirement already satisfied: catalogue<1.1.0,>=0.0.7 in /usr/local/lib/python3.6/dist-packages (from spacy>=2.2.2->en_core_web_sm==2.2.5) (1.0.0)\n",
            "Requirement already satisfied: murmurhash<1.1.0,>=0.28.0 in /usr/local/lib/python3.6/dist-packages (from spacy>=2.2.2->en_core_web_sm==2.2.5) (1.0.5)\n",
            "Requirement already satisfied: cymem<2.1.0,>=2.0.2 in /usr/local/lib/python3.6/dist-packages (from spacy>=2.2.2->en_core_web_sm==2.2.5) (2.0.5)\n",
            "Requirement already satisfied: wasabi<1.1.0,>=0.4.0 in /usr/local/lib/python3.6/dist-packages (from spacy>=2.2.2->en_core_web_sm==2.2.5) (0.8.0)\n",
            "Requirement already satisfied: srsly<1.1.0,>=1.0.2 in /usr/local/lib/python3.6/dist-packages (from spacy>=2.2.2->en_core_web_sm==2.2.5) (1.0.5)\n",
            "Requirement already satisfied: tqdm<5.0.0,>=4.38.0 in /usr/local/lib/python3.6/dist-packages (from spacy>=2.2.2->en_core_web_sm==2.2.5) (4.41.1)\n",
            "Requirement already satisfied: setuptools in /usr/local/lib/python3.6/dist-packages (from spacy>=2.2.2->en_core_web_sm==2.2.5) (51.0.0)\n",
            "Requirement already satisfied: requests<3.0.0,>=2.13.0 in /usr/local/lib/python3.6/dist-packages (from spacy>=2.2.2->en_core_web_sm==2.2.5) (2.23.0)\n",
            "Requirement already satisfied: preshed<3.1.0,>=3.0.2 in /usr/local/lib/python3.6/dist-packages (from spacy>=2.2.2->en_core_web_sm==2.2.5) (3.0.5)\n",
            "Requirement already satisfied: numpy>=1.15.0 in /usr/local/lib/python3.6/dist-packages (from spacy>=2.2.2->en_core_web_sm==2.2.5) (1.19.4)\n",
            "Requirement already satisfied: blis<0.5.0,>=0.4.0 in /usr/local/lib/python3.6/dist-packages (from spacy>=2.2.2->en_core_web_sm==2.2.5) (0.4.1)\n",
            "Requirement already satisfied: thinc==7.4.0 in /usr/local/lib/python3.6/dist-packages (from spacy>=2.2.2->en_core_web_sm==2.2.5) (7.4.0)\n",
            "Requirement already satisfied: plac<1.2.0,>=0.9.6 in /usr/local/lib/python3.6/dist-packages (from spacy>=2.2.2->en_core_web_sm==2.2.5) (1.1.3)\n",
            "Requirement already satisfied: importlib-metadata>=0.20; python_version < \"3.8\" in /usr/local/lib/python3.6/dist-packages (from catalogue<1.1.0,>=0.0.7->spacy>=2.2.2->en_core_web_sm==2.2.5) (3.3.0)\n",
            "Requirement already satisfied: certifi>=2017.4.17 in /usr/local/lib/python3.6/dist-packages (from requests<3.0.0,>=2.13.0->spacy>=2.2.2->en_core_web_sm==2.2.5) (2020.12.5)\n",
            "Requirement already satisfied: idna<3,>=2.5 in /usr/local/lib/python3.6/dist-packages (from requests<3.0.0,>=2.13.0->spacy>=2.2.2->en_core_web_sm==2.2.5) (2.10)\n",
            "Requirement already satisfied: urllib3!=1.25.0,!=1.25.1,<1.26,>=1.21.1 in /usr/local/lib/python3.6/dist-packages (from requests<3.0.0,>=2.13.0->spacy>=2.2.2->en_core_web_sm==2.2.5) (1.24.3)\n",
            "Requirement already satisfied: chardet<4,>=3.0.2 in /usr/local/lib/python3.6/dist-packages (from requests<3.0.0,>=2.13.0->spacy>=2.2.2->en_core_web_sm==2.2.5) (3.0.4)\n",
            "Requirement already satisfied: zipp>=0.5 in /usr/local/lib/python3.6/dist-packages (from importlib-metadata>=0.20; python_version < \"3.8\"->catalogue<1.1.0,>=0.0.7->spacy>=2.2.2->en_core_web_sm==2.2.5) (3.4.0)\n",
            "Requirement already satisfied: typing-extensions>=3.6.4; python_version < \"3.8\" in /usr/local/lib/python3.6/dist-packages (from importlib-metadata>=0.20; python_version < \"3.8\"->catalogue<1.1.0,>=0.0.7->spacy>=2.2.2->en_core_web_sm==2.2.5) (3.7.4.3)\n",
            "\u001b[38;5;2m✔ Download and installation successful\u001b[0m\n",
            "You can now load the model via spacy.load('en_core_web_sm')\n"
          ],
          "name": "stdout"
        }
      ]
    },
    {
      "cell_type": "code",
      "metadata": {
        "colab": {
          "base_uri": "https://localhost:8080/"
        },
        "id": "Aik3a65e--bJ",
        "outputId": "3133495a-c323-4250-ec86-c9a92b3024c1"
      },
      "source": [
        "!pip3 install Pillow\n",
        "!pip3 install pytesseract\n",
        "!pip3 install pdf2image\n",
        "!sudo apt-get install tesseract-ocr"
      ],
      "execution_count": 2,
      "outputs": [
        {
          "output_type": "stream",
          "text": [
            "Requirement already satisfied: Pillow in /usr/local/lib/python3.6/dist-packages (7.0.0)\n",
            "Collecting pytesseract\n",
            "  Downloading https://files.pythonhosted.org/packages/a0/e6/a4e9fc8a93c1318540e8de6d8d4beb5749b7960388a7c7f27799fc2dd016/pytesseract-0.3.7.tar.gz\n",
            "Requirement already satisfied: Pillow in /usr/local/lib/python3.6/dist-packages (from pytesseract) (7.0.0)\n",
            "Building wheels for collected packages: pytesseract\n",
            "  Building wheel for pytesseract (setup.py) ... \u001b[?25l\u001b[?25hdone\n",
            "  Created wheel for pytesseract: filename=pytesseract-0.3.7-py2.py3-none-any.whl size=13945 sha256=8cc17fc2462f0fa15e0b70c27fe5889d69ab3db44bb6ae92e1b4c241c3a38ee7\n",
            "  Stored in directory: /root/.cache/pip/wheels/81/20/7e/1dd0daad1575d5260916bb1e9781246430647adaef4b3ca3b3\n",
            "Successfully built pytesseract\n",
            "Installing collected packages: pytesseract\n",
            "Successfully installed pytesseract-0.3.7\n",
            "Collecting pdf2image\n",
            "  Downloading https://files.pythonhosted.org/packages/03/62/089030fd16ab3e5c245315d63c80b29250b8f9e4579b5a09306eb7e7539c/pdf2image-1.14.0-py3-none-any.whl\n",
            "Requirement already satisfied: pillow in /usr/local/lib/python3.6/dist-packages (from pdf2image) (7.0.0)\n",
            "Installing collected packages: pdf2image\n",
            "Successfully installed pdf2image-1.14.0\n",
            "Reading package lists... Done\n",
            "Building dependency tree       \n",
            "Reading state information... Done\n",
            "The following additional packages will be installed:\n",
            "  tesseract-ocr-eng tesseract-ocr-osd\n",
            "The following NEW packages will be installed:\n",
            "  tesseract-ocr tesseract-ocr-eng tesseract-ocr-osd\n",
            "0 upgraded, 3 newly installed, 0 to remove and 15 not upgraded.\n",
            "Need to get 4,795 kB of archives.\n",
            "After this operation, 15.8 MB of additional disk space will be used.\n",
            "Get:1 http://archive.ubuntu.com/ubuntu bionic/universe amd64 tesseract-ocr-eng all 4.00~git24-0e00fe6-1.2 [1,588 kB]\n",
            "Get:2 http://archive.ubuntu.com/ubuntu bionic/universe amd64 tesseract-ocr-osd all 4.00~git24-0e00fe6-1.2 [2,989 kB]\n",
            "Get:3 http://archive.ubuntu.com/ubuntu bionic/universe amd64 tesseract-ocr amd64 4.00~git2288-10f4998a-2 [218 kB]\n",
            "Fetched 4,795 kB in 5s (1,030 kB/s)\n",
            "debconf: unable to initialize frontend: Dialog\n",
            "debconf: (No usable dialog-like program is installed, so the dialog based frontend cannot be used. at /usr/share/perl5/Debconf/FrontEnd/Dialog.pm line 76, <> line 3.)\n",
            "debconf: falling back to frontend: Readline\n",
            "debconf: unable to initialize frontend: Readline\n",
            "debconf: (This frontend requires a controlling tty.)\n",
            "debconf: falling back to frontend: Teletype\n",
            "dpkg-preconfigure: unable to re-open stdin: \n",
            "Selecting previously unselected package tesseract-ocr-eng.\n",
            "(Reading database ... 145480 files and directories currently installed.)\n",
            "Preparing to unpack .../tesseract-ocr-eng_4.00~git24-0e00fe6-1.2_all.deb ...\n",
            "Unpacking tesseract-ocr-eng (4.00~git24-0e00fe6-1.2) ...\n",
            "Selecting previously unselected package tesseract-ocr-osd.\n",
            "Preparing to unpack .../tesseract-ocr-osd_4.00~git24-0e00fe6-1.2_all.deb ...\n",
            "Unpacking tesseract-ocr-osd (4.00~git24-0e00fe6-1.2) ...\n",
            "Selecting previously unselected package tesseract-ocr.\n",
            "Preparing to unpack .../tesseract-ocr_4.00~git2288-10f4998a-2_amd64.deb ...\n",
            "Unpacking tesseract-ocr (4.00~git2288-10f4998a-2) ...\n",
            "Setting up tesseract-ocr-osd (4.00~git24-0e00fe6-1.2) ...\n",
            "Setting up tesseract-ocr-eng (4.00~git24-0e00fe6-1.2) ...\n",
            "Setting up tesseract-ocr (4.00~git2288-10f4998a-2) ...\n",
            "Processing triggers for man-db (2.8.3-2ubuntu0.1) ...\n"
          ],
          "name": "stdout"
        }
      ]
    },
    {
      "cell_type": "code",
      "metadata": {
        "colab": {
          "base_uri": "https://localhost:8080/"
        },
        "id": "z3slghPi_Jdi",
        "outputId": "94bf6ab3-e3a4-44b4-b2ae-a2089530d45d"
      },
      "source": [
        "!apt-get update"
      ],
      "execution_count": 3,
      "outputs": [
        {
          "output_type": "stream",
          "text": [
            "Get:1 https://cloud.r-project.org/bin/linux/ubuntu bionic-cran40/ InRelease [3,626 B]\n",
            "Ign:2 https://developer.download.nvidia.com/compute/cuda/repos/ubuntu1804/x86_64  InRelease\n",
            "Get:3 https://cloud.r-project.org/bin/linux/ubuntu bionic-cran40/ Packages [41.5 kB]\n",
            "Ign:4 https://developer.download.nvidia.com/compute/machine-learning/repos/ubuntu1804/x86_64  InRelease\n",
            "Hit:5 https://developer.download.nvidia.com/compute/cuda/repos/ubuntu1804/x86_64  Release\n",
            "Hit:6 https://developer.download.nvidia.com/compute/machine-learning/repos/ubuntu1804/x86_64  Release\n",
            "Hit:7 http://archive.ubuntu.com/ubuntu bionic InRelease\n",
            "Get:8 http://ppa.launchpad.net/c2d4u.team/c2d4u4.0+/ubuntu bionic InRelease [15.9 kB]\n",
            "Get:9 http://security.ubuntu.com/ubuntu bionic-security InRelease [88.7 kB]\n",
            "Get:11 http://archive.ubuntu.com/ubuntu bionic-updates InRelease [88.7 kB]\n",
            "Hit:13 http://ppa.launchpad.net/cran/libgit2/ubuntu bionic InRelease\n",
            "Get:14 http://archive.ubuntu.com/ubuntu bionic-backports InRelease [74.6 kB]\n",
            "Get:15 http://security.ubuntu.com/ubuntu bionic-security/multiverse amd64 Packages [14.9 kB]\n",
            "Hit:16 http://ppa.launchpad.net/graphics-drivers/ppa/ubuntu bionic InRelease\n",
            "Get:17 http://security.ubuntu.com/ubuntu bionic-security/universe amd64 Packages [1,376 kB]\n",
            "Get:18 http://archive.ubuntu.com/ubuntu bionic-updates/main amd64 Packages [2,273 kB]\n",
            "Get:19 http://ppa.launchpad.net/c2d4u.team/c2d4u4.0+/ubuntu bionic/main Sources [1,705 kB]\n",
            "Get:20 http://security.ubuntu.com/ubuntu bionic-security/main amd64 Packages [1,846 kB]\n",
            "Get:21 http://security.ubuntu.com/ubuntu bionic-security/restricted amd64 Packages [247 kB]\n",
            "Get:22 http://archive.ubuntu.com/ubuntu bionic-updates/universe amd64 Packages [2,140 kB]\n",
            "Get:23 http://archive.ubuntu.com/ubuntu bionic-updates/multiverse amd64 Packages [53.4 kB]\n",
            "Get:24 http://archive.ubuntu.com/ubuntu bionic-updates/restricted amd64 Packages [277 kB]\n",
            "Get:25 http://ppa.launchpad.net/c2d4u.team/c2d4u4.0+/ubuntu bionic/main amd64 Packages [873 kB]\n",
            "Fetched 11.1 MB in 6s (1,986 kB/s)\n",
            "Reading package lists... Done\n"
          ],
          "name": "stdout"
        }
      ]
    },
    {
      "cell_type": "code",
      "metadata": {
        "colab": {
          "base_uri": "https://localhost:8080/"
        },
        "id": "2PxS0RKu_PLg",
        "outputId": "ad90eb55-869b-42d3-8578-c866b42cd0d7"
      },
      "source": [
        "!apt-get install poppler-utils --fix-missing"
      ],
      "execution_count": 4,
      "outputs": [
        {
          "output_type": "stream",
          "text": [
            "Reading package lists... Done\n",
            "Building dependency tree       \n",
            "Reading state information... Done\n",
            "The following NEW packages will be installed:\n",
            "  poppler-utils\n",
            "0 upgraded, 1 newly installed, 0 to remove and 27 not upgraded.\n",
            "Need to get 154 kB of archives.\n",
            "After this operation, 613 kB of additional disk space will be used.\n",
            "Get:1 http://archive.ubuntu.com/ubuntu bionic-updates/main amd64 poppler-utils amd64 0.62.0-2ubuntu2.12 [154 kB]\n",
            "Fetched 154 kB in 2s (102 kB/s)\n",
            "Selecting previously unselected package poppler-utils.\n",
            "(Reading database ... 145527 files and directories currently installed.)\n",
            "Preparing to unpack .../poppler-utils_0.62.0-2ubuntu2.12_amd64.deb ...\n",
            "Unpacking poppler-utils (0.62.0-2ubuntu2.12) ...\n",
            "Setting up poppler-utils (0.62.0-2ubuntu2.12) ...\n",
            "Processing triggers for man-db (2.8.3-2ubuntu0.1) ...\n"
          ],
          "name": "stdout"
        }
      ]
    },
    {
      "cell_type": "code",
      "metadata": {
        "id": "aliqoDOO-5om"
      },
      "source": [
        "from PIL import Image \n",
        "import pytesseract \n",
        "import sys \n",
        "from pdf2image import convert_from_path \n",
        "import os \n",
        "import re\n",
        "import spacy"
      ],
      "execution_count": 6,
      "outputs": []
    },
    {
      "cell_type": "code",
      "metadata": {
        "colab": {
          "base_uri": "https://localhost:8080/"
        },
        "id": "d4syWW4umVaq",
        "outputId": "ce76eb9e-ff14-4ea2-9aca-190851f40d4c"
      },
      "source": [
        "pdfs = [file for file in os.listdir() if '.pdf' in file]\n",
        "pdfs"
      ],
      "execution_count": 7,
      "outputs": [
        {
          "output_type": "execute_result",
          "data": {
            "text/plain": [
              "['457374430-A-E-M-P-AXXX-XXX-795-BIA-March-16-2020.pdf',\n",
              " '473847009-A-J-V-U-AXXX-XXX-645-BIA-July-10-2020.pdf',\n",
              " '477308213-M-S-F-AXXX-XXX-188-BIA-Aug-27-2020.pdf',\n",
              " '386774234-D-T-AXXX-XXX-959-BIA-July-27-2018.pdf',\n",
              " '452083522-M-A-D-A-AXXX-XXX-603-BIA-Feb-11-2020.pdf',\n",
              " '470814353-K-I-AXXX-XXX-247-BIA-July-7-2020.pdf',\n",
              " '431711050-C-N-A-AXXX-XXX-484-BIA-Sept-12-2019.pdf',\n",
              " '427098696-Y-M-G-L-AXXX-XXX-119-BIA-Sept-4-2019.pdf',\n",
              " '447696312-J-V-S-E-AXXX-XXX-159-BIA-Jan-10-2020.pdf',\n",
              " '462824675-D-E-D-L-AXXX-XXX-662-BIA-April-10-2020.pdf',\n",
              " '431716865-N-G-M-AXXX-XXX-926-BIA-Oct-4-2019.pdf',\n",
              " '470813340-J-S-R-Z-AXXX-XXX-188-BIA-June-24-2020.pdf',\n",
              " '431716768-M-H-AXXX-XXX-860-BIA-Oct-4-2019.pdf',\n",
              " '473846393-K-I-AXXX-XXX-247-BIA-July-7-2020.pdf',\n",
              " '470810825-M-M-A-AXXX-XXX-675-BIA-June-9-2020.pdf',\n",
              " '462828817-Z-M-AXXX-XXX-820-BIA-April-30-2020.pdf']"
            ]
          },
          "metadata": {
            "tags": []
          },
          "execution_count": 7
        }
      ]
    },
    {
      "cell_type": "code",
      "metadata": {
        "colab": {
          "base_uri": "https://localhost:8080/"
        },
        "id": "bqU_28oydZXv",
        "outputId": "498520d7-c40e-4da5-baf4-01b154e2da5c"
      },
      "source": [
        "os.path.isdir('./temp/')"
      ],
      "execution_count": 8,
      "outputs": [
        {
          "output_type": "execute_result",
          "data": {
            "text/plain": [
              "False"
            ]
          },
          "metadata": {
            "tags": []
          },
          "execution_count": 8
        }
      ]
    },
    {
      "cell_type": "code",
      "metadata": {
        "id": "NPQM640K-0MZ"
      },
      "source": [
        "def ocr_func(pdf_file, txt_folder = './temp/'):\n",
        "    '''\n",
        "    Takes an uploaded .pdf file, converts it to plain text, and saves it as a\n",
        "    .txt file\n",
        "    '''\n",
        "    #update to recieve input .pdf file as a variable?\n",
        "\n",
        "    pages = convert_from_path(pdf_file, dpi=300)\n",
        "\n",
        "    num_pages = 0\n",
        "\n",
        "    for image_counter, page in enumerate(pages):\n",
        "        filename = 'page_' + str(image_counter) + '.jpg'\n",
        "        page.save(filename, 'JPEG')\n",
        "        num_pages += 1\n",
        "    if not os.path.isdir(txt_folder):\n",
        "      os.mkdir(txt_folder)\n",
        "    outfile = ''.join(['./temp/',pdf_file.split('.')[0], '.txt'])\n",
        "    fulltext = []\n",
        "    f = open(outfile, 'a')\n",
        "\n",
        "    for i in range(num_pages):\n",
        "        filename = 'page_' + str(i) + '.jpg'\n",
        "        text = str(((pytesseract.image_to_string(Image.open(filename)))))\n",
        "        os.remove(filename)\n",
        "        # os.remove(pdf_file)\n",
        "        text = text.replace('-\\n', '')\n",
        "        fulltext.append(text)\n",
        "        f.write(text)\n",
        "\n",
        "    f.close()\n",
        "\n",
        "    return (outfile[len(txt_folder):],''.join(fulltext).split('\\n\\n'))"
      ],
      "execution_count": 9,
      "outputs": []
    },
    {
      "cell_type": "code",
      "metadata": {
        "id": "bQFIIVvcobgT"
      },
      "source": [
        "def getJudge(text: list) -> tuple:\r\n",
        "        '''\r\n",
        "        In an appeal document, finds the name of the judge on the appeal\r\n",
        "        returns a tuple of 'high confidence' or 'low confidence' \r\n",
        "        and the name of the judge\r\n",
        "        If the word 'judge' is near the token, high confidence is returned\r\n",
        "        This is because the judge name is followed or preceded by their title\r\n",
        "        '''\r\n",
        "        nlp = spacy.load('en_core_web_sm')\r\n",
        "        spaceSepText = ' '.join(text)\r\n",
        "        doc = nlp(spaceSepText)\r\n",
        "        people = [ent for ent in doc.ents if ent.label_ == 'PERSON'\r\n",
        "                        and len(ent.text.split(' ')) in (2,3)][-5:]\r\n",
        "        possibleJudges = [doc[person.start-4:person.end+4] for person in people]\r\n",
        "        # print(possibleJudges)\r\n",
        "        for idx, tokens in enumerate(possibleJudges):\r\n",
        "            if 'judge' in str(tokens).lower():\r\n",
        "              return ('High confidence', people[idx])\r\n",
        "        return ('low confidence', max(sorted(people, key = len)))\r\n",
        "\r\n",
        "def isAppeal(text):\r\n",
        "  appeal = re.compile(r\"(IN REMOVAL PROCEEDINGS\\nAPPEAL($|\\n)|\\nAPPEAL\\n)\")\r\n",
        "  return appeal.search('\\n'.join(text))"
      ],
      "execution_count": 11,
      "outputs": []
    },
    {
      "cell_type": "code",
      "metadata": {
        "id": "FgOkWmX2cWyN"
      },
      "source": [
        "def getCourt(text: list):\r\n",
        "  nlp = spacy.load('en_core_web_sm')\r\n",
        "  spaceSepText = ' '.join(text)\r\n",
        "  doc = nlp(spaceSepText)\r\n",
        "  court = [ent for ent in doc.ents if ent.label_ == 'GPE']\r\n",
        "  return court[0].text + ', ' +  court[1].text\r\n",
        "\r\n",
        "def getCoO(text: list):\r\n",
        "  nlp = spacy.load('en_core_web_sm')\r\n",
        "  spaceSepText = ' '.join(text)\r\n",
        "  doc = nlp(spaceSepText)\r\n",
        "  places = [ent for ent in doc.ents if ent.label_ == 'GPE']\r\n",
        "  possibleCoO = [doc[place.start-4:place.end+4] for place in places]\r\n",
        "  for idx, token in enumerate(possibleCoO):\r\n",
        "    return max(sorted(places, key = len))\r\n"
      ],
      "execution_count": 12,
      "outputs": []
    },
    {
      "cell_type": "code",
      "metadata": {
        "id": "6SjasShqAhCA",
        "colab": {
          "base_uri": "https://localhost:8080/"
        },
        "outputId": "0e99a7e3-c2dc-4bf5-f05d-ff800ceb0037"
      },
      "source": [
        "appeals = []\r\n",
        "originals = []\r\n",
        "print(len(fullTextList))\r\n",
        "for fullText in fullTextList:\r\n",
        "  print('\\nfull text', fullText[0])\r\n",
        "  if isAppeal(fullText[1]):\r\n",
        "    print('Appeal Case')\r\n",
        "    judge = getJudge(fullText[1])\r\n",
        "    print('print judge', judge)\r\n",
        "    court = getCourt(fullText[1])\r\n",
        "    print('print court', court)\r\n",
        "    coo = getCoO(fullText[1])\r\n",
        "    print('print country of origin', coo)\r\n",
        "    if fullText not in appeals:\r\n",
        "      appeals.append(fullText)\r\n",
        "  else:\r\n",
        "    print('Original Case')\r\n",
        "    judge = getJudge(fullText[1])\r\n",
        "    print('print judge: ', judge)\r\n",
        "    court = getCourt(fullText[1])\r\n",
        "    print('print court: ', court)\r\n",
        "    coo = getCoO(fullText[1])\r\n",
        "    print('print country of origin: ', coo)\r\n",
        "    if fullText not in originals:\r\n",
        "      originals.append(fullText)\r\n",
        "    \r\n",
        "    # for x in fullText[1]:\r\n",
        "    #   print(x)\r\n"
      ],
      "execution_count": 13,
      "outputs": [
        {
          "output_type": "stream",
          "text": [
            "16\n",
            "\n",
            "full text 457374430-A-E-M-P-AXXX-XXX-795-BIA-March-16-2020.txt\n",
            "Appeal Case\n",
            "print judge ('High confidence', de novo)\n",
            "print court Falls Church, Virginia\n",
            "print country of origin El Salvador\n",
            "\n",
            "full text 473847009-A-J-V-U-AXXX-XXX-645-BIA-July-10-2020.txt\n",
            "Appeal Case\n",
            "print judge ('low confidence', AXXX XXX 645)\n",
            "print court Falls Church, Virginia\n",
            "print country of origin Maracaibo\n",
            "\n",
            "full text 477308213-M-S-F-AXXX-XXX-188-BIA-Aug-27-2020.txt\n",
            "Appeal Case\n",
            "print judge ('low confidence', AXXX XXX)\n",
            "print court Falls Church, Virginia\n",
            "print country of origin Cuba\n",
            "\n",
            "full text 386774234-D-T-AXXX-XXX-959-BIA-July-27-2018.txt\n",
            "Appeal Case\n",
            "print judge ('low confidence', AXXX XXX)\n",
            "print court Falls Church, Virginia\n",
            "print country of origin Cameroon\n",
            "\n",
            "full text 452083522-M-A-D-A-AXXX-XXX-603-BIA-Feb-11-2020.txt\n",
            "Appeal Case\n",
            "print judge ('low confidence', AXXX XXX)\n",
            "print court Falls Church, Virginia\n",
            "print country of origin El Salvador\n",
            "\n",
            "full text 470814353-K-I-AXXX-XXX-247-BIA-July-7-2020.txt\n",
            "Appeal Case\n",
            "print judge ('low confidence', AXXX XXX)\n",
            "print court Falls Church, Virginia\n",
            "print country of origin United States\n",
            "\n",
            "full text 431711050-C-N-A-AXXX-XXX-484-BIA-Sept-12-2019.txt\n",
            "Appeal Case\n",
            "print judge ('low confidence', AXXX XXX)\n",
            "print court Falls Church, Houston\n",
            "print country of origin Cameroon\n",
            "\n",
            "full text 427098696-Y-M-G-L-AXXX-XXX-119-BIA-Sept-4-2019.txt\n",
            "Appeal Case\n",
            "print judge ('low confidence', AXXX XXX)\n",
            "print court US, Falls Church\n",
            "print country of origin Guatemala\n",
            "\n",
            "full text 447696312-J-V-S-E-AXXX-XXX-159-BIA-Jan-10-2020.txt\n",
            "Appeal Case\n",
            "print judge ('low confidence', AXXX XXX)\n",
            "print court Falls Church, Virginia\n",
            "print country of origin the United States\n",
            "\n",
            "full text 462824675-D-E-D-L-AXXX-XXX-662-BIA-April-10-2020.txt\n",
            "Appeal Case\n",
            "print judge ('low confidence', AXXX XXX)\n",
            "print court Virginia, Cleveland\n",
            "print country of origin Nicaragua\n",
            "\n",
            "full text 431716865-N-G-M-AXXX-XXX-926-BIA-Oct-4-2019.txt\n",
            "Appeal Case\n",
            "print judge ('low confidence', AXXX XXX)\n",
            "print court Falls Church, Virginia\n",
            "print country of origin Cuba\n",
            "\n",
            "full text 470813340-J-S-R-Z-AXXX-XXX-188-BIA-June-24-2020.txt\n",
            "Appeal Case\n",
            "print judge ('low confidence', AXXX XXX)\n",
            "print court Houston, Falls Church\n",
            "print country of origin U.S.\n",
            "\n",
            "full text 431716768-M-H-AXXX-XXX-860-BIA-Oct-4-2019.txt\n",
            "Appeal Case\n",
            "print judge ('low confidence', AXXX XXX)\n",
            "print court Falls Church, Virginia\n",
            "print country of origin Bangladesh\n",
            "\n",
            "full text 473846393-K-I-AXXX-XXX-247-BIA-July-7-2020.txt\n",
            "Appeal Case\n",
            "print judge ('low confidence', AXXX XXX)\n",
            "print court Falls Church, Virginia\n",
            "print country of origin United States\n",
            "\n",
            "full text 470810825-M-M-A-AXXX-XXX-675-BIA-June-9-2020.txt\n",
            "Appeal Case\n",
            "print judge ('low confidence', AXXX XXX)\n",
            "print court New Orleans, U.S\n",
            "print country of origin the United States\n",
            "\n",
            "full text 462828817-Z-M-AXXX-XXX-820-BIA-April-30-2020.txt\n",
            "Appeal Case\n",
            "print judge ('low confidence', AXXX XXX 820)\n",
            "print court Silver Spring, Falls Church\n",
            "print country of origin Cameroon\n"
          ],
          "name": "stdout"
        }
      ]
    },
    {
      "cell_type": "code",
      "metadata": {
        "id": "4Vwj6T9O_aSV",
        "colab": {
          "base_uri": "https://localhost:8080/"
        },
        "outputId": "f9d8d87a-0921-41b6-e52d-8f52b0c162a2"
      },
      "source": [
        "fullTextList = [ocr_func(PDF_file) for PDF_file in pdfs]\n",
        "for file, text in fullTextList:\n",
        "  print(file)\n",
        "  print(text[:10])"
      ],
      "execution_count": 10,
      "outputs": [
        {
          "output_type": "stream",
          "text": [
            "457374430-A-E-M-P-AXXX-XXX-795-BIA-March-16-2020.txt\n",
            "['U.S. Department of Justice\\nExecutive Office for Immigration Review', 'Board of Immigration Appeals\\nOffice of the Clerk', ' ', '5107 Leesburg Pike. Suite 2000\\nFalls Church, Virginia 22041', 'Martinez, Alejandra DHS/ICE Office of Chief Counsel - PSD\\nDe Mott, McChesney, Curtright, 566 Veterans Drive\\n& Armendariz, LLP Pearsall, TX 78061', '8023 Vantage Dr., Ste 800\\nSan Antonio, TX 78230', 'Name: VS-PaS, AME... A -795\\nDate of this notice: 3/16/2020', \"Enclosed is a copy of the Board's decision and order in the above-referenced case.\", 'Sincerely,', 'Donna Carr\\nChief Clerk']\n",
            "473847009-A-J-V-U-AXXX-XXX-645-BIA-July-10-2020.txt\n",
            "['U.S. Department of Justice\\nExecutive Office for Immigration Review', 'Board of Immigration Appeals\\nOffice of the Clerk', ' ', '5107 Leesburg Pike, Suite 2000\\nFalls Church, Virginia 22041', 'Goodwin, Jodilyn Marie DHS/ICE Office of Chief Counsel - HLG\\nLaw Office of Jodi Goodwin 1717 Zoy Street\\n1221 East Harrison Avenue Harlingen, TX 78552', 'Harlingen, TX 78550', 'Riders', 'Name: Vi URES, AG... 4 GR -645\\n_____\\nDate of this notice: 7/10/2020', \"Enclosed is a copy of the Board's decision and order in the above-referenced case.\", 'Sincerely,']\n",
            "477308213-M-S-F-AXXX-XXX-188-BIA-Aug-27-2020.txt\n",
            "[' ', 'Atkinson-Flowers, Nadine Caroline\\nNadine C. Atkinson-Flowers', 'P.O Box 159', 'Folcroft, PA 19032', 'Name: Sq S, VS', 'U.S. Department of Justice\\nExecutive Office for Immigration Review', 'Board of Immigration Appeals\\nOffice of the Clerk', '5107 Leesburg Pike, Suite 2000\\nFalls Church, Virginia 22041', 'DHS/ICE Office of Chief Counsel - SDC\\n146 CCA Road, P.O.Box 248\\nLumpkin, GA 31815', 'A E-188']\n",
            "386774234-D-T-AXXX-XXX-959-BIA-July-27-2018.txt\n",
            "['U.S. Department of Justice\\nExecutive Office for Immigration Review', 'Board of Immigration Appeals\\nOffice of the Clerk', ' ', '5107 Leesburg Pike, Suste 2000\\nFalls Church, Virginia 22041', 'Oretskin, Nancy DHS/ICE Office of Chief Counsel - OTO\\nSouthwest Asylum & Migration Institute 8915 Montana Avenue, Suite O\\n1816 Anita Dr. Las Cruces NM 88001 El Paso, TX 79936', 'P.O.Box 15160\\nLas Cruces, NM 88004', 'Name: TH, OS A NEES -959\\nDate of this notice: 7/27/2018', \"Enclosed is a copy of the Board's decision and order in the above-referenced case.\", 'Sincerely,', 'Donna Can']\n",
            "452083522-M-A-D-A-AXXX-XXX-603-BIA-Feb-11-2020.txt\n",
            "['U.S. Department of Justice\\nExecutive Office for Immigration Review', 'Board of Immigration Appeals\\nOffice of the Clerk', ' ', '5107 Leesburg Pike, Suite 2000\\nFalls Church, Virginia 2204!', 'Schulz, Karen Wynholds DHS/ICE Office of Chief Counsel - SFR\\nStep Forward Foundation P.O. Box 26449\\nPO Box 123 San Francisco, CA 94126-6449', 'Morgan Hill, CA 95038', 'Name: OR -AS, VG AR A E-603\\nRice rs:', 'Date of this notice: 2/11/2020', \"Enclosed is a copy of the Board's decision and order in the above-referenced case.\", 'Sincerely,']\n",
            "470814353-K-I-AXXX-XXX-247-BIA-July-7-2020.txt\n",
            "['U.S. Department of Justice\\nExecutive Office for Immigration Review', 'Board of Immigration Appeals\\nOffice of the Clerk', ' ', '5107 Leesburg Pike, Suite 2000\\nFalls Church, Virginia 2204]', 'Proctor, Gregory Carl DHS/ICE Office of Chief Counsel - JNA\\nKramer Levin Naftalis & Frankel PO Box 410\\n990 Marsh Road Trout, LA 71371', 'Menlo Park, CA 94025', 'Nene: i A ..:', 'Date of this notice: 7/7/2020', \"Enclosed is a copy of the Board's decision and order in the above-referenced case.\", 'Sincerely,']\n",
            "431711050-C-N-A-AXXX-XXX-484-BIA-Sept-12-2019.txt\n",
            "['U.S. Department of Justice\\nExecutive Office for Immigration Review', 'Board of Immigration Appeals\\nOffice of the Clerk', ' ', '5107 Leesburg Pike, Sutte 2000\\nFalls Church, Virgima 22041', 'Powers, Ruby Lichte DHS/ICE Office of Chief Counsel\\nPowers Law Group, P.C. Montgomery Proc Ctr, 806 Hilbig Rd\\n§225 Katy Freeway Conroe, TX 77301', 'Suite 300', 'Houston, TX 77007', 'Name: Nag AR, CHa A mE -484\\nDate of this notice: 9/12/2019', \"Enclosed is a copy of the Board's decision and order in the above-referenced case.\", 'Sincerely,']\n",
            "427098696-Y-M-G-L-AXXX-XXX-119-BIA-Sept-4-2019.txt\n",
            "['US. Department of Justice\\nExecutive Office for Immigration Review', 'Board of Immigration Appeals\\nOffice of the Clerk', ' ', '5107 Leesburg Pike, Suite 2000\\nFalls Church, Virginia 22041', 'Davis, Timothy William DHS/ICE Office of Chief Counsel - BAL\\nLaw Office of Timothy W. Davis, LLC 31 Hopkins Plaza, Room 1600', '1521 South Edgewood Street Baltimore, MD 21201', 'Suite B', 'Baltimore, MD 21227', 'Name: CHS -L Sa, YE Va... A E-119\\nDate of this notice: 9/4/2019', \"Enclosed is a copy of the Board's decision and order in the above-referenced case.\"]\n",
            "447696312-J-V-S-E-AXXX-XXX-159-BIA-Jan-10-2020.txt\n",
            "[' ', 'Taj, Nabila', 'Brooklyn Defender Services\\n156 Pierrepont Street\\nBrooklyn, NY 11201', 'Name: Sia a, Ja Vi.', 'U.S. Department of Justice\\nExecutive Office for Immigration Review', 'Board of Immigration Appeals\\nOffice of the Clerk', '5107 Leesburg Pike, Suite 2000\\nFalls Church, Virginia 22041', 'DHS/ICE Office of Chief Counsel - NYD\\n201 Varick, Rm. 1130\\nNew York, NY 10014', 'APE -159', 'Date of this notice: 1/10/2020']\n",
            "462824675-D-E-D-L-AXXX-XXX-662-BIA-April-10-2020.txt\n",
            "['U.S. Department of Justice\\nExecutive Office for Immigration Review', 'Board of Immigration Appeals\\nOffice of the Clerk', ' ', '5107 Leesburg Pike, Suite 2000\\nFalls Church, Virgimia 2204]', 'Nochomovitz, Lara DHS/ICE Office of Chief Counsel - CLE\\nLSN Legal LLC 925 Keynote Circle, Room 201\\n118 Partridge Lane Brooklyn Heights, OH 44131', 'Chagrin Falls, OH 44022', 'Name: Oggg-Lgaa, OR Coa A EEN -662\\nDate of this notice: 4/10/2020', \"Enclosed is a copy of the Board's decision and order in the above-referenced case.\", 'Sincerely,', 'Denna Cans']\n",
            "431716865-N-G-M-AXXX-XXX-926-BIA-Oct-4-2019.txt\n",
            "['U.S. Department of Justice\\nExecutive Office for Immigration Review', 'Board of Immigration Appeals\\nOffice of the Clerk', ' ', '5107 Leesburg Pike, Suite 2000\\nFalls Church, Virginia 2204]', 'Lépez, Jr., Homero DHS - ICE Office of Chief Counsel ISLA OAKDALE 2', '2714 Canal St. 1010 E. Whatley Rd.', 'Ste. 300 OAKDALE, LA 71463', 'New Orleans, LA 70119', 'Name: GEE Vi. NG A EE -926\\nDate of this notice: 10/4/2019', \"Enclosed is a copy of the Board's decision and order in the above-referenced case.\"]\n",
            "470813340-J-S-R-Z-AXXX-XXX-188-BIA-June-24-2020.txt\n",
            "[' ', ' ', 'Rosas, Velia E.', 'Law Office of Velia E. Rosas, PLLC\\n5225 Katy Freeway', 'Suite 490', 'Houston, TX 77007', 'Name: RES 2, as ..', 'U.S. Department of Justice\\nExecutive Office for Immigration Review', 'Board of Immigration Appeals\\nOffice of the Clerk', '5107 Leesburg Pike, Suite 2000\\nFalls Church, Virginia 22041']\n",
            "431716768-M-H-AXXX-XXX-860-BIA-Oct-4-2019.txt\n",
            "['U.S. Department of Justice\\nExecutive Office for Immigration Review', 'Board of Immigration Appeals\\nOffice of the Clerk', ' ', '5107 Leesburg Pike, Suite 2000\\nFalls Church, Virginia 22041', 'Moravec, Joseph David DHS/ICE Office of Chief Counsel - BTV\\nPrisoners‘ Legal Services of New York 4250 Federal Dr.', '41 State St. Batavia, NY 14020', 'Ste. M112', 'Albany, NY 12207', 'Name: Ha, Va A MN -860\\nDate of this notice: 10/4/2019', \"Enclosed is a copy of the Board's decision and order in the above-referenced case.\"]\n",
            "473846393-K-I-AXXX-XXX-247-BIA-July-7-2020.txt\n",
            "[' ', 'Proctor, Gregory Carl', 'Kramer Levin Naftalis & Frankel\\n990 Marsh Road', 'Menlo Park, CA 94025', 'Name: Gy (as', 'U.S. Department of Justice\\nExecutive Office for Immigration Review', 'Board of Immigration Appeals\\nOffice of the Clerk', '5107 Leesburg Pike, Suite 2000\\nFalls Church, Virginia 22041', 'DHS/ICE Office of Chief Counsel - JNA\\nPO Box 410\\nTrout, LA 71371', 'A 247']\n",
            "470810825-M-M-A-AXXX-XXX-675-BIA-June-9-2020.txt\n",
            "['U.S. Department of Justice\\nExecutive Office for Immigration Review', 'Board of Immigration Appeals\\nOffice of the Clerk', ' ', '5107 Leesburg Pike, Suite 2000\\nFails Church. Virginia 22041', 'Page, Allyson DHS - ICE Office of Chief Counsel ISLA OAKDALE 2', '2714 Canal Street, Suite 300 1010 E. Whatley Rd.', 'New Orleans, LA 70119 OAKDALE, LA 71463', 'Name: Vi ASS, Vi A MN -675', 'Date of this notice: 6/9/2020', \"Enclosed is a copy of the Board's decision and order in the above-referenced case.\"]\n",
            "462828817-Z-M-AXXX-XXX-820-BIA-April-30-2020.txt\n",
            "[' ', 'TINGWEI, SUSAN ENGONWEI\\nLaw office of SUSan E Tingwei\\n8121 Georgia Ave ste 340\\nSilver Spring, MD 20910', 'Name: Mig, Za', 'U.S. Department of Justice\\nExecutive Office for Immigration Review', 'Board of Immigration Appeals\\nOffice of the Clerk', '5107 Leesburg Pike, Suite 2000\\nFalls Church. Virginia 22041', 'DHS/ICE Office of Chief Counsel - JNA\\nPO Box 410\\nTrout, LA 71371', 'A ME -820', 'Date of this notice: 4/30/2020', \"Enclosed is a copy of the Board's decision and order in the above-referenced case.\"]\n"
          ],
          "name": "stdout"
        }
      ]
    },
    {
      "cell_type": "code",
      "metadata": {
        "id": "SP1_of0Pjk-b",
        "colab": {
          "base_uri": "https://localhost:8080/"
        },
        "outputId": "c55d5785-c585-4454-ff3f-afb5cf377d5c"
      },
      "source": [
        "for name, t in appeals or original:\r\n",
        "  print(name)"
      ],
      "execution_count": null,
      "outputs": [
        {
          "output_type": "stream",
          "text": [
            "Bain_Asylum Grant Gender-Based Imputed PO_EL SALVADOR_July 2019.txt\n"
          ],
          "name": "stdout"
        }
      ]
    },
    {
      "cell_type": "code",
      "metadata": {
        "id": "1QVnHS8hhLP0"
      },
      "source": [
        "# import shutil\r\n",
        "\r\n",
        "# #using make_archive method to zip a whole directory\r\n",
        "# shutil.make_archive('texts', 'zip', './temp/')"
      ],
      "execution_count": null,
      "outputs": []
    },
    {
      "cell_type": "code",
      "metadata": {
        "id": "nrF-tvSnXpVw"
      },
      "source": [
        "nlp = spacy.load('en_core_web_sm')"
      ],
      "execution_count": null,
      "outputs": []
    },
    {
      "cell_type": "code",
      "metadata": {
        "id": "wI76_57mSEgN"
      },
      "source": [
        "docs = []\r\n",
        "for text in appeals or original:\r\n",
        "  docs.append([ent for ent in nlp(' '.join(text[1])).ents])# if ent.label_ == 'PERSON'])"
      ],
      "execution_count": null,
      "outputs": []
    },
    {
      "cell_type": "code",
      "metadata": {
        "id": "Kvl-BM5-SM8h"
      },
      "source": [
        "fullpeopleLists = []\n",
        "for doc in docs:\n",
        "  people = []\n",
        "  for ent in doc:\n",
        "    if ent.label_ == 'PERSON':\n",
        "      people.append(ent.text)\n",
        "  fullpeopleLists.append(people)"
      ],
      "execution_count": null,
      "outputs": []
    },
    {
      "cell_type": "code",
      "metadata": {
        "id": "3apqpEi3AoYy",
        "colab": {
          "base_uri": "https://localhost:8080/"
        },
        "outputId": "f842192c-eb35-4b4f-f94e-afd5fe6ef010"
      },
      "source": [
        "for idx, peopleList in enumerate(fullpeopleLists):\r\n",
        "  print(fullTextList[idx][0][7:])\r\n",
        "  if any([len(person.split(' ')) >= 3 for person in peopleList[-3:]]):\r\n",
        "    print(peopleList[-3:])\r\n",
        "    last = peopleList[-3:]\r\n",
        "    print(max(last, key = len) )\r\n",
        "  else:\r\n",
        "    print('not found')\r\n",
        "    print(peopleList[-3:])"
      ],
      "execution_count": null,
      "outputs": [
        {
          "output_type": "stream",
          "text": [
            "ylum Grant Gender-Based Imputed PO_EL SALVADOR_July 2019.txt\n",
            "['the Lead Respondent', 'Zuh', 'Quynh V. Bain']\n",
            "the Lead Respondent\n"
          ],
          "name": "stdout"
        }
      ]
    },
    {
      "cell_type": "code",
      "metadata": {
        "id": "Savu9VU-BRO9"
      },
      "source": [
        "placeList = []\r\n",
        "for doc in docs:\r\n",
        "  places = []\r\n",
        "  for ent in doc:\r\n",
        "    if ent.label_ == 'GPE':\r\n",
        "      places.append(ent.text)\r\n",
        "  placeList.append(places)"
      ],
      "execution_count": null,
      "outputs": []
    },
    {
      "cell_type": "code",
      "metadata": {
        "colab": {
          "base_uri": "https://localhost:8080/"
        },
        "id": "1tWgnXxCZ7Kw",
        "outputId": "e93b1151-85f8-4a94-80d0-f4630088b936"
      },
      "source": [
        "#getCourt(original[0][1])\r\n",
        "getCoO(appeals[0][1])"
      ],
      "execution_count": null,
      "outputs": [
        {
          "output_type": "execute_result",
          "data": {
            "text/plain": [
              "the United States Court of Appeals"
            ]
          },
          "metadata": {
            "tags": []
          },
          "execution_count": 156
        }
      ]
    },
    {
      "cell_type": "code",
      "metadata": {
        "id": "6MpgmuaDqDMs"
      },
      "source": [
        ""
      ],
      "execution_count": null,
      "outputs": []
    }
  ]
}