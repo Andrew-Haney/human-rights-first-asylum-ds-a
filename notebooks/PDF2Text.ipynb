{
  "nbformat": 4,
  "nbformat_minor": 0,
  "metadata": {
    "colab": {
      "name": "PDF2Text.ipynb",
      "provenance": [],
      "collapsed_sections": []
    },
    "kernelspec": {
      "name": "python3",
      "display_name": "Python 3"
    }
  },
  "cells": [
    {
      "cell_type": "markdown",
      "metadata": {
        "id": "xZ4pCuLv6_OM"
      },
      "source": [
        "### DEPENDENCIES:\r\n",
        "\r\n",
        "• pdf2image  \r\n",
        "    `converts each page in a pdf file into a jpeg image`\r\n",
        "\r\n",
        "• pytesseract  \r\n",
        "    `converts the jpeg images into text`"
      ]
    },
    {
      "cell_type": "code",
      "metadata": {
        "id": "BV_69zzv2woS"
      },
      "source": [
        "%%capture\r\n",
        "!sudo apt-get install tesseract-ocr\r\n",
        "!sudo apt-get install poppler-utils --fix-missing\r\n",
        "!pip install pytesseract\r\n",
        "!pip install pdf2image"
      ],
      "execution_count": 1,
      "outputs": []
    },
    {
      "cell_type": "code",
      "metadata": {
        "colab": {
          "base_uri": "https://localhost:8080/"
        },
        "id": "_1LMVGiaCDTj",
        "outputId": "7d75aa1a-b4fd-46a2-c317-62d4ba182f1e"
      },
      "source": [
        "from typing import List, Tuple\r\n",
        "import pytesseract \r\n",
        "from pdf2image import convert_from_path \r\n",
        "import os\r\n",
        "\r\n",
        "from google.colab import drive\r\n",
        "drive.mount('/content/drive')"
      ],
      "execution_count": 2,
      "outputs": [
        {
          "output_type": "stream",
          "text": [
            "Mounted at /content/drive\n"
          ],
          "name": "stdout"
        }
      ]
    },
    {
      "cell_type": "markdown",
      "metadata": {
        "id": "LM3Y_uBp70x2"
      },
      "source": [
        "• This code uses google drive in order to host the files. If using a different file structure, set your own paths variables `PDF_DIR` and `TXT_DIR`"
      ]
    },
    {
      "cell_type": "code",
      "metadata": {
        "id": "lp1_3Qxp7BKW"
      },
      "source": [
        "# Location of PDFs in Google Drive\r\n",
        "PDF_DIR: str = \"./drive/MyDrive/PDFs\"\r\n",
        "# Location of .txt files in Google Drive\r\n",
        "TXT_DIR: str = \"./drive/MyDrive/PDFtxts\"\r\n",
        "# List of PDF file names"
      ],
      "execution_count": 3,
      "outputs": []
    },
    {
      "cell_type": "code",
      "metadata": {
        "colab": {
          "base_uri": "https://localhost:8080/",
          "height": 35
        },
        "id": "KEhAv3bXPEqd",
        "outputId": "e4094f38-9479-441d-f035-3f20065c8c05"
      },
      "source": [
        "pdf_files = os.listdir(PDF_DIR)\r\n",
        "# Example of how to construct path with\r\n",
        "PDF_DIR + '/' + pdf_files[0]"
      ],
      "execution_count": 4,
      "outputs": [
        {
          "output_type": "execute_result",
          "data": {
            "application/vnd.google.colaboratory.intrinsic+json": {
              "type": "string"
            },
            "text/plain": [
              "'./drive/MyDrive/PDFs/140630293-Jose-Javier-Linares-Valencia-A059-170-269-BIA-Aug-23-2012.pdf'"
            ]
          },
          "metadata": {
            "tags": []
          },
          "execution_count": 4
        }
      ]
    },
    {
      "cell_type": "code",
      "metadata": {
        "id": "NCo4fsf0L_Zo"
      },
      "source": [
        "def convert_pdf_to_text(pdf_file: str, pdf_dir=PDF_DIR) -> str:\r\n",
        "    '''\r\n",
        "    Converts PDF to JPEG and uses Tesseract to convert JEPG to text. \r\n",
        "    '''\r\n",
        "    # Assemble path to PDF files\r\n",
        "    path_to = lambda file: pdf_dir + '/' + file \r\n",
        "    # Convert pages to list of JPEGS\r\n",
        "    pages = convert_from_path(path_to(pdf_file))\r\n",
        "    # Convert JPEGS into list of strings\r\n",
        "    pages_text: List[str] = [pytesseract.image_to_string(p) for p in pages]\r\n",
        "    del pages\r\n",
        "\r\n",
        "    return ''.join(pages_text)\r\n",
        "\r\n",
        "\r\n",
        "def pdf_text_filename(pdf_file: str) -> str:\r\n",
        "    '''\r\n",
        "    Replace \"*.pdf\" with \"*.txt\".\r\n",
        "    '''\r\n",
        "    return pdf_file[:-3] + \"txt\""
      ],
      "execution_count": 5,
      "outputs": []
    },
    {
      "cell_type": "code",
      "metadata": {
        "id": "hU7h-F2CQKuy"
      },
      "source": [
        "def convert_and_save_all(pdf_files: List[str], \r\n",
        "                         pdf_dir=PDF_DIR, \r\n",
        "                         txt_dir=TXT_DIR) -> None:\r\n",
        "    '''\r\n",
        "    Given a list of pdf files in a directory, this func will convert all\r\n",
        "    into text files.\r\n",
        "    '''\r\n",
        "    txt_files: List[str] = os.listdir(txt_dir)\r\n",
        "\r\n",
        "    # List of (*.pdf, *.txt)\r\n",
        "    translated_file_names: List[Tuple[str, str]] = [\r\n",
        "        (pdf, pdf_text_filename(pdf)) for pdf in pdf_files \r\n",
        "                                      if pdf[-3:] == \"pdf\"\r\n",
        "    ]\r\n",
        "    # Filtered list of (*.pdf, *.txt) for unconverted PDFs\r\n",
        "    not_converted: List[Tuple[str, str]] = list(filter(\r\n",
        "        lambda f: f[1] not in txt_files,\r\n",
        "        translated_file_names\r\n",
        "    ))\r\n",
        "    print(\r\n",
        "        f\"{ len(not_converted) } \"\r\n",
        "        f\"out of {len(translated_file_names)} PDF files to convert.\"\r\n",
        "    )\r\n",
        "\r\n",
        "    num_to_convert = len(not_converted)\r\n",
        "    num_converted = 0\r\n",
        "\r\n",
        "    # Assemble path to location of saved .txt file\r\n",
        "    path_to = lambda file: txt_dir + '/' + file\r\n",
        "\r\n",
        "    for pdf, txt_fname in not_converted:\r\n",
        "        # Print progress\r\n",
        "        if num_converted % 50 == 0:\r\n",
        "            print(f\"{ round(num_converted/num_to_convert*100) }% converted...\")\r\n",
        "\r\n",
        "        text = convert_pdf_to_text(pdf, pdf_dir)\r\n",
        "        f = open(path_to(txt_fname), 'w')\r\n",
        "        f.write(text)\r\n",
        "        f.close()\r\n",
        "        # inc num converted\r\n",
        "        num_converted += 1\r\n",
        "\r\n",
        "    print(\"Finished!\")"
      ],
      "execution_count": 6,
      "outputs": []
    },
    {
      "cell_type": "code",
      "metadata": {
        "colab": {
          "base_uri": "https://localhost:8080/"
        },
        "id": "3TeIQQ8tZ01o",
        "outputId": "ff4d4c65-d079-4106-c102-aa4250298b33"
      },
      "source": [
        "pdf_files: List[str] = os.listdir(PDF_DIR)\r\n",
        "convert_and_save_all(pdf_files)"
      ],
      "execution_count": null,
      "outputs": [
        {
          "output_type": "stream",
          "text": [
            "886 out of 1502 PDF files to convert.\n",
            "0% converted...\n"
          ],
          "name": "stdout"
        }
      ]
    }
  ]
}