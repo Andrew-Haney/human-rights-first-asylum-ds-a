{
 "metadata": {
  "language_info": {
   "codemirror_mode": {
    "name": "ipython",
    "version": 3
   },
   "file_extension": ".py",
   "mimetype": "text/x-python",
   "name": "python",
   "nbconvert_exporter": "python",
   "pygments_lexer": "ipython3",
   "version": "3.9.1"
  },
  "orig_nbformat": 2,
  "kernelspec": {
   "name": "python391jvsc74a57bd02a764ab3e9143ef70d41a864640b3590096b98a33d6a76c31f5c355328af1703",
   "display_name": "Python 3.9.1 64-bit ('DS-WqXRPi8f': pipenv)"
  },
  "metadata": {
   "interpreter": {
    "hash": "7812ea015bdcee6f23a998adcdd2ef97c151c0c241b7b7070987d9313e41299d"
   }
  }
 },
 "nbformat": 4,
 "nbformat_minor": 2,
 "cells": [
  {
   "cell_type": "code",
   "execution_count": 85,
   "metadata": {},
   "outputs": [],
   "source": [
    "import pandas as pd\n",
    "import numpy as np\n",
    "import csv"
   ]
  },
  {
   "cell_type": "code",
   "execution_count": 119,
   "metadata": {},
   "outputs": [],
   "source": [
    "url = 'https://www.justice.gov/eoir/eoir-immigration-court-listing#MP'\n",
    "tables = pd.read_html(url)\n",
    "\n",
    "for i in tables:\n",
    "    i.columns = i.iloc[0].values\n",
    "    i.drop(0, inplace=True)\n",
    "    i.reset_index(drop=True)\n",
    "\n",
    "df = tables[0]\n",
    "\n",
    "states = df.columns[0].replace('  ',' ').replace('|', '').split()\n",
    "\n",
    "for i in range(len(states)):\n",
    "    if states[i].startswith('New') or states[i].startswith('North') \\\n",
    "    or states[i].startswith('South') or states[i].startswith('Puerto'):\n",
    "        states[i] = states[i] + ' ' + states[i+1]\n",
    "        states[i+1] = ''\n",
    "    if states[i].startswith('Northern'):\n",
    "        states[i] = states[i] + ' ' + states[i+2]\n",
    "        states[i+2] = ''\n",
    "while '' in states:\n",
    "    states.remove('')\n",
    "\n",
    "tables[0] = states\n",
    "\n",
    "judges = tables[1:]\n",
    "\n",
    "for s, j in zip(states, judges):\n",
    "    j['State'] = s\n",
    "\n",
    "df = pd.concat(tables[1:], ignore_index=True)\n",
    "\n",
    "df.rename(columns = {'Court Administrator':'court_admin',\n",
    "                     'Immigration Judges':'judges',\n",
    "                     'Address':'court_address',\n",
    "                     'Court':'court_name', \n",
    "                     'State':'court_state'}, inplace=True)\n",
    "\n",
    "df.dropna(axis=1, inplace=True)\n",
    "\n",
    "for i in range(len(df)):\n",
    "    s = df.court_state[i] \n",
    "    if s in cir_dict:\n",
    "        df['court_circuit'] = cir_dict[s]\n",
    "\n",
    "def jnames(names):\n",
    "    return names.split('  ')\n",
    "\n",
    "df['judges'] = df['judges'].apply(jnames)\n",
    "\n",
    "df.to_csv('judges_courts.csv', index=False)"
   ]
  },
  {
   "cell_type": "code",
   "execution_count": null,
   "metadata": {},
   "outputs": [],
   "source": [
    "url_laws_acts = 'https://en.wikipedia.org/wiki/List_of_United_States_immigration_laws'\n",
    "laws_acts = pd.read_html(url_laws_acts)\n",
    "\n",
    "def cleanit(string):\n",
    "    if 'Act ' in string:\n",
    "        s = string[:string.find(' Act ')].strip()\n",
    "        return s + ' Act'\n",
    "    \n",
    "    if 'Law ' in string:\n",
    "        s = string[:string.find(' Law ')].strip()\n",
    "        return s + ' Law'\n",
    "\n",
    "    return string\n",
    "\n",
    "laws = set(n for n in [cleanit(i) for i in laws_acts[1]['Name of legislation or case'] \n",
    "        if type(i) == str] if ' v. ' not in n)\n",
    "\n",
    "with open('laws_filter.csv', 'w') as f:\n",
    "    f.write(f'{laws}')"
   ]
  },
  {
   "cell_type": "code",
   "execution_count": null,
   "metadata": {},
   "outputs": [],
   "source": [
    "url_circuits = 'https://en.wikipedia.org/wiki/United_States_courts_of_appeals'\n",
    "circuits = pd.read_html(url_circuits)\n",
    "\n",
    "cir_dict = {i:str(j).split(' ')[-2] for i, j in zip(circuits[3]['State'], circuits[3]['Circuit assignment(s)']) \\\n",
    "            if type(j) == str and i != 'District of Columbia'}\n",
    "\n",
    "for i,j in cir_dict.items():\n",
    "\n",
    "    if 'st' in j or 'nd' in j or 'rd' in j:\n",
    "        cir_dict[i] = j[-4:-1]\n",
    "\n",
    "    elif '0th' in j or '1th' in j:\n",
    "        cir_dict[i] = j[-5:-1]\n",
    "\n",
    "    elif 'th' in j:\n",
    "        cir_dict[i] = j[-4:-1]\n",
    "\n",
    "cir_dict['District of Columbia'] = 'District of Columbia Circuit'\n",
    "\n",
    "with open('circuits.csv', 'w') as f:\n",
    "    f.write(f\"{cir_dict}\")"
   ]
  },
  {
   "cell_type": "code",
   "execution_count": null,
   "metadata": {},
   "outputs": [],
   "source": []
  },
  {
   "cell_type": "code",
   "execution_count": null,
   "metadata": {},
   "outputs": [],
   "source": []
  }
 ]
}