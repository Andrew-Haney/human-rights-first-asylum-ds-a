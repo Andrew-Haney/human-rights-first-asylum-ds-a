{
 "cells": [
  {
   "cell_type": "code",
   "execution_count": 1,
   "id": "aae03ae1",
   "metadata": {},
   "outputs": [],
   "source": [
    "import warnings\n",
    "warnings.filterwarnings('ignore')\n",
    "import os\n",
    "import pandas as pd\n",
    "import requests\n",
    "from bs4 import BeautifulSoup\n",
    "from typing import List, Tuple, Union, Callable, Dict, Iterator\n",
    "from collections import defaultdict\n",
    "from difflib import SequenceMatcher\n",
    "import spacy \n",
    "from spacy.matcher import Matcher, PhraseMatcher\n",
    "from spacy.tokens.doc import Doc\n",
    "from spacy.tokens.span import Span\n",
    "from spacy.tokens.token import Token\n",
    "from geotext import GeoText ## new library: https://pypi.org/project/geotext/"
   ]
  },
  {
   "cell_type": "code",
   "execution_count": 2,
   "id": "8ca27e86",
   "metadata": {},
   "outputs": [],
   "source": [
    "nlp = spacy.load(\"en_core_web_sm\")"
   ]
  },
  {
   "cell_type": "code",
   "execution_count": 3,
   "id": "15e34d9c",
   "metadata": {},
   "outputs": [],
   "source": [
    "filenames = os.listdir(r'C:\\Users\\12482\\Desktop\\lambda-school\\labs\\project\\textfolder\\text_cases') # Wherever files are located"
   ]
  },
  {
   "cell_type": "code",
   "execution_count": 4,
   "id": "10e1bec7",
   "metadata": {},
   "outputs": [],
   "source": [
    "def similar(a: str, return_b: str, min_score: float) -> Union[str, None]:\n",
    "    \"\"\"\n",
    "    • Returns 2nd string if similarity score is above supplied\n",
    "    minimum score. Else, returns None.\n",
    "    \"\"\"\n",
    "    if SequenceMatcher(None, a, return_b).ratio() >= min_score:\n",
    "        return return_b\n",
    "\n",
    "\n",
    "def similar_in_list(lst: Union[List[str], Iterator[str]]) -> Callable:\n",
    "    \"\"\"\n",
    "    • Uses a closure on supplied list to return a function that iterates over\n",
    "    the list in order to search for the first similar term. It's used widely\n",
    "    in the scraper.\n",
    "    \"\"\"\n",
    "\n",
    "    def impl(item: str, min_score: float) -> Union[str, None]:\n",
    "        for s in lst:\n",
    "            s = similar(item, s, min_score)\n",
    "            if s:\n",
    "                return s\n",
    "\n",
    "    return impl"
   ]
  },
  {
   "cell_type": "code",
   "execution_count": 5,
   "id": "6f622e3a",
   "metadata": {},
   "outputs": [],
   "source": [
    "members = [\n",
    "    \"Adkins-Blanch, Charles K.\",\n",
    "    \"Michael P. Baird\",\n",
    "    \"Cassidy, William A.\",\n",
    "    \"Cole, Patricia A.\",\n",
    "    \"Couch, V. Stuart\",\n",
    "    \"Creppy, Michael J.\",\n",
    "    \"Crossett, John P.\",\n",
    "    \"Donovan, Teresa L.\",\n",
    "    \"Foote, Megan E.\",\n",
    "    \"Geller, Joan B.\",\n",
    "    \"Gemoets, Marcos\",\n",
    "    \"Gonzalez, Gabriel\",\n",
    "    \"Goodwin, Deborah K.\",\n",
    "    \"Gorman, Stephanie E.\",\n",
    "    \"Grant, Edward R.\",\n",
    "    \"Greer, Anne J.\",\n",
    "    \"Guendelsberger, John\",\n",
    "    \"Hunsucker, Keith E.\",\n",
    "    \"Kelly, Edward F.\",\n",
    "    \"Kendall Clark, Molly\",\n",
    "    \"Liebmann, Beth S.\",\n",
    "    \"Liebowitz, Ellen C.\",\n",
    "    \"Mahtabfar, Sunita B.\",\n",
    "    \"Malphrus, Garry D.\",\n",
    "    \"Mann, Ana\",\n",
    "    \"Miller, Neil P.\",\n",
    "    \"Monsky, Megan Foote\",\n",
    "    \"Montante Jr., Phillip J.\",\n",
    "    \"Morris, Daniel\",\n",
    "    \"Mullane, Hugh G.\",\n",
    "    \"Neal, David L.\",\n",
    "    \"Noferi, Mark\",\n",
    "    \"O'Connor, Blair\",\n",
    "    \"O'Herron, Margaret M.\",\n",
    "    \"O'Leary, Brian M.\",\n",
    "    \"Owen, Sirce E.\",\n",
    "    \"Pauley, Roger\",\n",
    "    \"Petty, Aaron R.\",\n",
    "    \"Pepper, S. Kathleen\",\n",
    "    \"RILEY, KEVIN W.\",\n",
    "    \"Rosen, Scott\",\n",
    "    \"Snow, Thomas G.\",\n",
    "    \"Swanwick, Daniel L.\",\n",
    "    \"Wendtland, Linda S.\",\n",
    "    \"Wetmore, David H.\",\n",
    "    \"Wilson, Earle B.\"\n",
    "]"
   ]
  },
  {
   "cell_type": "code",
   "execution_count": 6,
   "id": "04c6c874",
   "metadata": {
    "scrolled": true
   },
   "outputs": [
    {
     "data": {
      "text/plain": [
       "['David H. Wetmore',\n",
       " 'Charles Adkins-Blanch',\n",
       " 'Garry D. Malphrus',\n",
       " 'Michael P. Baird',\n",
       " 'William A. Cassidy',\n",
       " 'V. Stuart Couch',\n",
       " 'Michael J. Creppy',\n",
       " 'Deborah K. Goodwin',\n",
       " 'Stephanie E. Gorman',\n",
       " 'Edward R. Grant',\n",
       " 'Anne J. Greer',\n",
       " 'Keith E. Hunsucker',\n",
       " 'Edward F. Kelly',\n",
       " 'Ellen Liebowitz',\n",
       " 'Sunita B. Mahtabfar',\n",
       " 'Ana Landazabal Mann',\n",
       " 'Philip J. Montante, Jr.',\n",
       " 'Hugh Mullane',\n",
       " \"Blair O'Connor\",\n",
       " 'Sirce E. Owen',\n",
       " 'Aaron R. Petty',\n",
       " 'Kevin W. Riley',\n",
       " 'Earle B. Wilson',\n",
       " 'Megan Foote Monsky',\n",
       " 'Joan B. Geller',\n",
       " 'Gabriel Gonzalez',\n",
       " 'Beth Liebmann',\n",
       " 'Mark Noferi',\n",
       " 'S. Kathleen Pepper']"
      ]
     },
     "execution_count": 6,
     "metadata": {},
     "output_type": "execute_result"
    }
   ],
   "source": [
    "judges_url = 'https://en.wikipedia.org/wiki/Board_of_Immigration_Appeals'\n",
    "html = requests.get(judges_url).text\n",
    "soup = BeautifulSoup(html, 'html.parser')\n",
    "table = soup.find(\"table\", class_=\"wikitable\")\n",
    "web_judges = [itm.get_text().strip() for itm in table.select(\"td\")[1::4]]\n",
    "\n",
    "web_judges"
   ]
  },
  {
   "cell_type": "code",
   "execution_count": 7,
   "id": "7e489afa",
   "metadata": {},
   "outputs": [],
   "source": [
    "combined_members = members + web_judges"
   ]
  },
  {
   "cell_type": "code",
   "execution_count": 8,
   "id": "5e328b8b",
   "metadata": {},
   "outputs": [],
   "source": [
    "class GetJudge:\n",
    "    \"\"\" Returns the judge's name if a match is found. \"\"\"\n",
    "    accuracy = 0.7\n",
    "\n",
    "    def __init__(self):\n",
    "        # Currently grabs potential judges names from a URL here.\n",
    "        # For testing we'll instead alternate `names`\n",
    "\n",
    "#         names = web_judges\n",
    "#         names = members\n",
    "        names = combined_members\n",
    "        self.is_judge: Callable = similar_in_list(names)\n",
    "\n",
    "    def __call__(self, name):\n",
    "        result = self.is_judge(name, self.accuracy)\n",
    "        if not result:\n",
    "            flip_name = ' '.join(reversed(name.split(', ')))\n",
    "            result = self.is_judge(flip_name, self.accuracy)\n",
    "        return result\n",
    "\n",
    "\n",
    "class BIACase:\n",
    "    def __init__(self, text: str):\n",
    "        \"\"\"\n",
    "        • Input will be text from a BIA case pdf file, after the pdf has\n",
    "        been converted from PDF to text.\n",
    "        • Scraping works utilizing spaCy, tokenizing the text, and iterating\n",
    "        token by token searching for matching keywords.\n",
    "        \"\"\"\n",
    "        self.doc: Doc = nlp(text)\n",
    "        self.ents: Tuple[Span] = self.doc.ents\n",
    "        self.if_judge = GetJudge()\n",
    "\n",
    "    def get_ents(self, labels: List[str]) -> Iterator[Span]:\n",
    "        \"\"\"\n",
    "        • Retrieves entitiess of a specified label(s) in the document,\n",
    "        if no label is specified, returns all entities\n",
    "        \"\"\"\n",
    "        return (ent for ent in self.ents if ent.label_ in labels)\n",
    "\n",
    "    def get_panel(self) -> str:\n",
    "        \"\"\"\n",
    "        • Returns the panel members of case in document.\n",
    "        \"\"\"\n",
    "        panel_members: List[str]\n",
    "        panel_members = []\n",
    "        possible_members: Iterator[Span]\n",
    "        possible_members = map(\n",
    "            lambda ent: ent.text, self.get_ents(['PERSON'])\n",
    "        )\n",
    "        for member in possible_members:\n",
    "            judge: Union[str, None]\n",
    "            judge = self.if_judge(member)\n",
    "            if judge:\n",
    "                panel_members.append(judge)\n",
    "\n",
    "        return '; '.join(set(panel_members))"
   ]
  },
  {
   "cell_type": "code",
   "execution_count": 9,
   "id": "1857b9c5",
   "metadata": {
    "scrolled": true
   },
   "outputs": [],
   "source": [
    "# ** Change `names` to `web_judges` list in GetJudge() **\n",
    "web_dict = {}\n",
    "\n",
    "for file in filenames:\n",
    "    f = open(f\"C:\\\\Users\\\\12482\\\\Desktop\\\\lambda-school\\\\labs\\\\project\\\\textfolder\\\\text_cases\\\\{file}\", \"r\",encoding='utf-8')\n",
    "    case = BIACase(f.read())\n",
    "    web_dict[file] = case.get_panel()\n",
    "    f.close()"
   ]
  },
  {
   "cell_type": "markdown",
   "id": "6c096852",
   "metadata": {},
   "source": [
    "### NEW WORK BELOW"
   ]
  },
  {
   "cell_type": "code",
   "execution_count": 49,
   "id": "41da9023",
   "metadata": {},
   "outputs": [],
   "source": [
    "## idea: create a dataframe with a multitude of features \n",
    "\n",
    "## feature 1 is num of panel members -- > do first\n",
    "\n",
    "## feature 2 is most significant place --> do next\n",
    "\n",
    "## ....... \n",
    "\n",
    "## create df"
   ]
  },
  {
   "cell_type": "code",
   "execution_count": 54,
   "id": "ca97ec52",
   "metadata": {},
   "outputs": [
    {
     "data": {
      "text/plain": [
       "2"
      ]
     },
     "execution_count": 54,
     "metadata": {},
     "output_type": "execute_result"
    }
   ],
   "source": [
    "l = list(web_dict.keys()) ## easy access to dict\n",
    "len(web_dict[l[0]].split(',')) ## example --> value is number of panel members"
   ]
  },
  {
   "cell_type": "code",
   "execution_count": 56,
   "id": "6b4728fc",
   "metadata": {},
   "outputs": [],
   "source": [
    "def func(dict_):\n",
    "    \n",
    "    panel = []\n",
    "    \n",
    "    l = list(dict_.keys())\n",
    "    \n",
    "    for x in l:\n",
    "        panel.append(len(dict_[x].split(',')))\n",
    "        \n",
    "    return panel\n",
    "\n",
    "panel_len = func(web_dict)"
   ]
  },
  {
   "cell_type": "code",
   "execution_count": 26,
   "id": "24aa9c91",
   "metadata": {},
   "outputs": [],
   "source": [
    "cache = {}\n",
    "\n",
    "for i in range(len(filenames)):\n",
    "    cache[i] = open(f\"C:\\\\Users\\\\12482\\\\Desktop\\\\lambda-school\\\\labs\\\\project\\\\textfolder\\\\text_cases\\\\{filenames[i]}\", \"r\",encoding='utf-8')\n",
    "    cache[i] = cache[i].read()"
   ]
  },
  {
   "cell_type": "code",
   "execution_count": 47,
   "id": "a46d81a9",
   "metadata": {},
   "outputs": [],
   "source": [
    "from collections import Counter # --> returns dict (k:v, for k=word,v=count in file)\n",
    "\n",
    "def func(data):\n",
    "    \n",
    "    file_count = []\n",
    "    \n",
    "    for i in range(len(data)):\n",
    "        file = data[i]\n",
    "        cities_in_file = GeoText(file).cities\n",
    "        c = Counter(cities_in_file)\n",
    "        file_count.append(c.most_common(1))\n",
    "        \n",
    "    return file_count\n",
    "\n",
    "city_count = func(data=cache)"
   ]
  },
  {
   "cell_type": "code",
   "execution_count": 68,
   "id": "23b7ef80",
   "metadata": {},
   "outputs": [],
   "source": [
    "def func(data):\n",
    "    l = []\n",
    "    for i in range(len(data)):\n",
    "        l.append(data[i][0][0])\n",
    "    return l\n",
    "cities = func(city_count)"
   ]
  },
  {
   "cell_type": "code",
   "execution_count": 69,
   "id": "0dd614af",
   "metadata": {},
   "outputs": [
    {
     "data": {
      "text/html": [
       "<div>\n",
       "<style scoped>\n",
       "    .dataframe tbody tr th:only-of-type {\n",
       "        vertical-align: middle;\n",
       "    }\n",
       "\n",
       "    .dataframe tbody tr th {\n",
       "        vertical-align: top;\n",
       "    }\n",
       "\n",
       "    .dataframe thead th {\n",
       "        text-align: right;\n",
       "    }\n",
       "</style>\n",
       "<table border=\"1\" class=\"dataframe\">\n",
       "  <thead>\n",
       "    <tr style=\"text-align: right;\">\n",
       "      <th></th>\n",
       "      <th>city</th>\n",
       "      <th>panel_count</th>\n",
       "    </tr>\n",
       "  </thead>\n",
       "  <tbody>\n",
       "    <tr>\n",
       "      <th>0</th>\n",
       "      <td>Los Angeles</td>\n",
       "      <td>2</td>\n",
       "    </tr>\n",
       "    <tr>\n",
       "      <th>1</th>\n",
       "      <td>Virginia</td>\n",
       "      <td>1</td>\n",
       "    </tr>\n",
       "    <tr>\n",
       "      <th>2</th>\n",
       "      <td>Virginia</td>\n",
       "      <td>1</td>\n",
       "    </tr>\n",
       "    <tr>\n",
       "      <th>3</th>\n",
       "      <td>New York</td>\n",
       "      <td>1</td>\n",
       "    </tr>\n",
       "    <tr>\n",
       "      <th>4</th>\n",
       "      <td>March</td>\n",
       "      <td>1</td>\n",
       "    </tr>\n",
       "  </tbody>\n",
       "</table>\n",
       "</div>"
      ],
      "text/plain": [
       "          city  panel_count\n",
       "0  Los Angeles            2\n",
       "1     Virginia            1\n",
       "2     Virginia            1\n",
       "3     New York            1\n",
       "4        March            1"
      ]
     },
     "execution_count": 69,
     "metadata": {},
     "output_type": "execute_result"
    }
   ],
   "source": [
    "df = pd.DataFrame()\n",
    "df['city'] = cities\n",
    "df['panel_count'] = panel_len\n",
    "df.head()"
   ]
  },
  {
   "cell_type": "code",
   "execution_count": 74,
   "id": "77dddf34",
   "metadata": {},
   "outputs": [],
   "source": [
    "import category_encoders as ce\n",
    "\n",
    "enc = ce.OrdinalEncoder()\n",
    "enc.fit(df['city'])\n",
    "new = enc.transform(df['city'])"
   ]
  },
  {
   "cell_type": "code",
   "execution_count": 76,
   "id": "e4e7939a",
   "metadata": {},
   "outputs": [
    {
     "data": {
      "text/html": [
       "<div>\n",
       "<style scoped>\n",
       "    .dataframe tbody tr th:only-of-type {\n",
       "        vertical-align: middle;\n",
       "    }\n",
       "\n",
       "    .dataframe tbody tr th {\n",
       "        vertical-align: top;\n",
       "    }\n",
       "\n",
       "    .dataframe thead th {\n",
       "        text-align: right;\n",
       "    }\n",
       "</style>\n",
       "<table border=\"1\" class=\"dataframe\">\n",
       "  <thead>\n",
       "    <tr style=\"text-align: right;\">\n",
       "      <th></th>\n",
       "      <th>city</th>\n",
       "      <th>panel_count</th>\n",
       "    </tr>\n",
       "  </thead>\n",
       "  <tbody>\n",
       "    <tr>\n",
       "      <th>0</th>\n",
       "      <td>1</td>\n",
       "      <td>2</td>\n",
       "    </tr>\n",
       "    <tr>\n",
       "      <th>1</th>\n",
       "      <td>2</td>\n",
       "      <td>1</td>\n",
       "    </tr>\n",
       "    <tr>\n",
       "      <th>2</th>\n",
       "      <td>2</td>\n",
       "      <td>1</td>\n",
       "    </tr>\n",
       "    <tr>\n",
       "      <th>3</th>\n",
       "      <td>3</td>\n",
       "      <td>1</td>\n",
       "    </tr>\n",
       "    <tr>\n",
       "      <th>4</th>\n",
       "      <td>4</td>\n",
       "      <td>1</td>\n",
       "    </tr>\n",
       "  </tbody>\n",
       "</table>\n",
       "</div>"
      ],
      "text/plain": [
       "   city  panel_count\n",
       "0     1            2\n",
       "1     2            1\n",
       "2     2            1\n",
       "3     3            1\n",
       "4     4            1"
      ]
     },
     "execution_count": 76,
     "metadata": {},
     "output_type": "execute_result"
    }
   ],
   "source": [
    "df['city'] = new\n",
    "df.head()"
   ]
  },
  {
   "cell_type": "code",
   "execution_count": 80,
   "id": "1d39364c",
   "metadata": {},
   "outputs": [
    {
     "data": {
      "text/plain": [
       "<AxesSubplot:>"
      ]
     },
     "execution_count": 80,
     "metadata": {},
     "output_type": "execute_result"
    },
    {
     "data": {
      "image/png": "[encoded data removed]",
      "text/plain": [
       "<Figure size 432x288 with 2 Axes>"
      ]
     },
     "metadata": {
      "needs_background": "light"
     },
     "output_type": "display_data"
    }
   ],
   "source": [
    "import seaborn as sns\n",
    "sns.heatmap(df.corr())"
   ]
  },
  {
   "cell_type": "markdown",
   "id": "16a23e8a",
   "metadata": {},
   "source": [
    "### NEED TO ENGINEER MORE FEATURES !"
   ]
  }
 ],
 "metadata": {
  "kernelspec": {
   "display_name": "Python 3",
   "language": "python",
   "name": "python3"
  },
  "language_info": {
   "codemirror_mode": {
    "name": "ipython",
    "version": 3
   },
   "file_extension": ".py",
   "mimetype": "text/x-python",
   "name": "python",
   "nbconvert_exporter": "python",
   "pygments_lexer": "ipython3",
   "version": "3.9.2"
  }
 },
 "nbformat": 4,
 "nbformat_minor": 5
}
